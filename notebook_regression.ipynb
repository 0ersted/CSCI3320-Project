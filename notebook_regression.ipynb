{
 "cells": [
  {
   "cell_type": "code",
   "execution_count": 1,
   "metadata": {},
   "outputs": [],
   "source": [
    "import pandas as pd\n",
    "import numpy as np\n",
    "import sklearn\n",
    "import matplotlib.pyplot as plt\n",
    "import math\n",
    "from sklearn.preprocessing import StandardScaler"
   ]
  },
  {
   "cell_type": "code",
   "execution_count": 2,
   "metadata": {},
   "outputs": [],
   "source": [
    "scaler_X=StandardScaler()\n",
    "#first produce X_train\n",
    "df_train = pd.read_csv('data/training.csv')\n",
    "df_test = pd.read_csv('data/testing.csv')\n",
    "df = pd.read_csv('data/race-result-horse.csv')\n",
    "X_train=df_train.drop(['finishing_position','horse_number','horse_name','horse_id','jockey','trainer','length_behind_winner','running_position_1','running_position_2','running_position_3','running_position_4','finish_time','running_position_5','running_position_6','race_id','recent_6_runs'],axis=1)\n",
    "X_train=pd.DataFrame(X_train,dtype=np.float)\n",
    "scaler_X.fit(X_train)\n",
    "X_train_normalized=scaler_X.transform(X_train)\n",
    "m_train, _ = np.shape(X_train)\n",
    "X_test=df_test.drop(['finishing_position','horse_number','horse_name','horse_id','jockey','trainer','length_behind_winner','running_position_1','running_position_2','running_position_3','running_position_4','finish_time','running_position_5','running_position_6','race_id','recent_6_runs'],axis=1)\n",
    "X_test=pd.DataFrame(X_test,dtype=np.float)\n",
    "scaler_X.fit(X_test)\n",
    "X_test_normalized=scaler_X.transform(X_test)\n",
    "m_test, _ = np.shape(X_test)\n",
    "y_train=df_train.finish_time\n",
    "def t2s(t):#transfer the finish_time into float\n",
    "    min,sec,msec=t.strip().split(\".\")\n",
    "    return (float(min)*60+float(sec)+float(msec)*0.01)\n",
    "y_train=[t2s(y_train[i]) for i in range(len(y_train))]\n",
    "y_train=pd.DataFrame(y_train,dtype=np.float)\n",
    "scaler_y=StandardScaler()\n",
    "scaler_y.fit(y_train)\n",
    "y_train_normalized=scaler_y.transform(y_train)\n",
    "y_test=df_test.finish_time\n",
    "y_test=[t2s(y_test[i]) for i in range(len(y_test))]\n",
    "y_test=pd.DataFrame(y_test,dtype=np.float)\n",
    "scaler_y.fit(y_test)\n",
    "y_test_normalized=scaler_y.transform(y_test)\n",
    "m, n = np.shape(df)\n",
    "m_train, _ = np.shape(df_train)\n",
    "m_test, _ = np.shape(df_test)\n"
   ]
  },
  {
   "cell_type": "code",
   "execution_count": 3,
   "metadata": {
    "scrolled": true
   },
   "outputs": [
    {
     "name": "stderr",
     "output_type": "stream",
     "text": [
      "/usr/local/lib/python3.6/site-packages/sklearn/utils/validation.py:578: DataConversionWarning: A column-vector y was passed when a 1d array was expected. Please change the shape of y to (n_samples, ), for example using ravel().\n",
      "  y = column_or_1d(y, warn=True)\n"
     ]
    },
    {
     "name": "stdout",
     "output_type": "stream",
     "text": [
      "0.2587052686516408\n"
     ]
    }
   ],
   "source": [
    "#4.1.1\n",
    "from sklearn.svm import SVR\n",
    "svr_model=SVR(C=27,epsilon=0.2)\n",
    "svr_model.fit(X_train,y_train)\n",
    "svr_result=svr_model.predict(X_test)\n",
    "svr_score=svr_model.score(X_test,y_test)\n",
    "print(\"svr_score before normalization: \", svr_score)\n"
   ]
  },
  {
   "cell_type": "code",
   "execution_count": 4,
   "metadata": {},
   "outputs": [
    {
     "name": "stderr",
     "output_type": "stream",
     "text": [
      "/usr/local/lib/python3.6/site-packages/sklearn/utils/validation.py:578: DataConversionWarning: A column-vector y was passed when a 1d array was expected. Please change the shape of y to (n_samples, ), for example using ravel().\n",
      "  y = column_or_1d(y, warn=True)\n"
     ]
    },
    {
     "name": "stdout",
     "output_type": "stream",
     "text": [
      "0.9932325493954955\n"
     ]
    }
   ],
   "source": [
    "#4.1.2\n",
    "from sklearn.ensemble import GradientBoostingRegressor\n",
    "gbrt_model=GradientBoostingRegressor(loss='ls',learning_rate=0.05,n_estimators=600,max_depth=1)\n",
    "gbrt_model.fit(X_train,y_train)\n",
    "gbrt_result=gbrt_model.predict(X_test)\n",
    "gbrt_score=gbrt_model.score(X_test,y_test)\n",
    "print(\"gbrt_score before normalization: \", gbrt_score)\n"
   ]
  },
  {
   "cell_type": "code",
   "execution_count": 5,
   "metadata": {},
   "outputs": [
    {
     "name": "stdout",
     "output_type": "stream",
     "text": [
      "SVR Model: RMSE =  19.104978238752828 ; Top_1 =  0.06860706860706861 ; Top_3 =  0.23492723492723494 ; Average_Rank =  6.704781704781705\n",
      "Gradient Boosting Regression Tree Model: RMSE =  32.691969626829 ; Top_1 =  0.25363825363825365 ; Top_3 =  0.5634095634095634 ; Average_Rank =  3.943866943866944\n"
     ]
    }
   ],
   "source": [
    "#4.2\n",
    "#root_mean_squared_error svr model\n",
    "y_subtracted=np.power(np.array(y_test)-np.array(svr_result),2)\n",
    "sum=0\n",
    "for i in range(len(y_test)):\n",
    "    sum=sum+y_subtracted[i][0]\n",
    "root_mean_squared_error_SVR = np.power(sum/len(y_test),1/2)\n",
    "#root_mean_squared_error GBRT model\n",
    "y_subtracted=np.power(np.array(y_test)-np.array(gbrt_result),2)\n",
    "sum=0\n",
    "for i in range(len(y_test)):\n",
    "    sum=sum+y_subtracted[i][0]\n",
    "root_mean_squared_error_GBRT= np.power(sum/len(y_test),1/2)\n",
    "#get rank of gbrt model from finish_time\n",
    "raceid=list()\n",
    "for i in range(len(df_test)):\n",
    "    if df_test.race_id[i] not in raceid:\n",
    "        raceid.append(df_test.race_id[i])\n",
    "#svr\n",
    "svr_predicted_rank=np.zeros((len(X_test),1))\n",
    "for i in range(len(raceid)):\n",
    "    index=list()\n",
    "    for j in np.where(df_test.race_id==raceid[i]):\n",
    "        index.append(j)#index is the row number in X_test whose race id is race_id[i]\n",
    "    index=index[0]\n",
    "    order=np.argsort(np.array(svr_result)[index],axis=0)\n",
    "    k=0\n",
    "    for j in index:\n",
    "        svr_predicted_rank[j]=order[k]+1\n",
    "        k=k+1\n",
    "from collections import Counter\n",
    "TP_top1=0\n",
    "TP_top3=0\n",
    "sum_of_actual_rank=0\n",
    "count_of_1=0\n",
    "for i in range(len(svr_result)):\n",
    "    if svr_predicted_rank[i]==1:\n",
    "        count_of_1=count_of_1+1\n",
    "        sum_of_actual_rank=sum_of_actual_rank+df_test.finishing_position[i]\n",
    "    if (svr_predicted_rank[i]==1 and df_test.finishing_position[i]==1):\n",
    "        TP_top1=TP_top1+1\n",
    "    if (svr_predicted_rank[i]==1 and df_test.finishing_position[i]<=3):\n",
    "        TP_top3=TP_top3+1\n",
    "Top_1=TP_top1/count_of_1\n",
    "Top_3=TP_top3/count_of_1\n",
    "ave_rank=sum_of_actual_rank/count_of_1\n",
    "print(\"SVR Model before normalization : RMSE = \",root_mean_squared_error_SVR,\"; Top_1 = \",Top_1,\"; Top_3 = \",Top_3,\"; Average_Rank = \",ave_rank)\n",
    "#gbrt\n",
    "gbrt_predicted_rank=np.zeros((len(X_test),1))\n",
    "for i in range(len(raceid)):\n",
    "    index=list()\n",
    "    for j in np.where(df_test.race_id==raceid[i]):\n",
    "        index.append(j)#index is the row number in X_test whose race id is race_id[i]\n",
    "    index=index[0]\n",
    "    order=np.argsort(np.array(gbrt_result)[index],axis=0)\n",
    "    k=0\n",
    "    for j in index:\n",
    "        gbrt_predicted_rank[j]=order[k]+1\n",
    "        k=k+1\n",
    "from collections import Counter\n",
    "TP_top1=0\n",
    "TP_top3=0\n",
    "sum_of_actual_rank=0\n",
    "count_of_1=0\n",
    "for i in range(len(gbrt_result)):\n",
    "    if gbrt_predicted_rank[i]==1:\n",
    "        count_of_1=count_of_1+1\n",
    "        sum_of_actual_rank=sum_of_actual_rank+df_test.finishing_position[i]\n",
    "    if (gbrt_predicted_rank[i]==1 and df_test.finishing_position[i]==1):\n",
    "        TP_top1=TP_top1+1\n",
    "    if (gbrt_predicted_rank[i]==1 and df_test.finishing_position[i]<=3):\n",
    "        TP_top3=TP_top3+1\n",
    "Top_1=TP_top1/count_of_1\n",
    "Top_3=TP_top3/count_of_1\n",
    "ave_rank=sum_of_actual_rank/count_of_1\n",
    "print(\"Gradient Boosting Regression Tree Model before normalization: RMSE = \",root_mean_squared_error_GBRT,\"; Top_1 = \",Top_1,\"; Top_3 = \",Top_3,\"; Average_Rank = \",ave_rank)"
   ]
  },
  {
   "cell_type": "code",
   "execution_count": 6,
   "metadata": {},
   "outputs": [
    {
     "name": "stderr",
     "output_type": "stream",
     "text": [
      "/usr/local/lib/python3.6/site-packages/sklearn/utils/validation.py:578: DataConversionWarning: A column-vector y was passed when a 1d array was expected. Please change the shape of y to (n_samples, ), for example using ravel().\n",
      "  y = column_or_1d(y, warn=True)\n"
     ]
    },
    {
     "name": "stdout",
     "output_type": "stream",
     "text": [
      "0.9871819135459845\n",
      "0.9859066667450533\n",
      "1.6960519262669744\n",
      "1.6089965674162692\n"
     ]
    }
   ],
   "source": [
    "#normalized cases\n",
    "#normalized svr\n",
    "svr_normalized_model=SVR(C=20,epsilon=0.1)\n",
    "svr_normalized_model.fit(X_train_normalized,y_train_normalized)\n",
    "svr_normalized_result=svr_normalized_model.predict(X_test_normalized)\n",
    "svr_normalized_score=svr_normalized_model.score(X_test_normalized,y_test_normalized)\n",
    "print(\"svr_normalized_score after normalization: \", svr_normalized_score)\n",
    "#normalized GBRT\n",
    "gbrt_normalized_model=GradientBoostingRegressor(loss='ls',learning_rate=0.012,n_estimators=1000,max_depth=1)#very sensitive to leaning_rate\n",
    "gbrt_normalized_model.fit(X_train_normalized,y_train_normalized)\n",
    "gbrt_normalized_result=gbrt_normalized_model.predict(X_test_normalized)\n",
    "gbrt_normalized_score=gbrt_normalized_model.score(X_test_normalized,y_test_normalized)\n",
    "print(\"gbrt_normalized_score: \",gbrt_normalized_score)\n",
    "#root_mean_squared_error svr model\n",
    "y_subtracted=np.power(np.array(y_test_normalized)-np.array(svr_normalized_result),2)\n",
    "sum=0\n",
    "for i in range(len(y_test)):\n",
    "    sum=sum+y_subtracted[i][0]\n",
    "normalized_root_mean_squared_error_SVR = np.power(sum/len(y_test),1/2)\n",
    "#root_mean_squared_error GBRT model\n",
    "y_subtracted=np.power(np.array(y_test_normalized)-np.array(gbrt_normalized_result),2)\n",
    "sum=0\n",
    "for i in range(len(y_test)):\n",
    "    sum=sum+y_subtracted[i][0]\n",
    "normalized_root_mean_squared_error_GBRT= np.power(sum/len(y_test),1/2)\n",
    "#get rank of gbrt model from finish_time\n",
    "#svr\n",
    "svr_normalized_predicted_rank=np.zeros((len(X_test),1))\n",
    "for i in range(len(raceid)):\n",
    "    index=list()\n",
    "    for j in np.where(df_test.race_id==raceid[i]):\n",
    "        index.append(j)#index is the row number in X_test whose race id is race_id[i]\n",
    "    index=index[0]\n",
    "    order=np.argsort(np.array(svr_normalized_result)[index],axis=0)\n",
    "    k=0\n",
    "    for j in index:\n",
    "        svr_normalized_predicted_rank[j]=order[k]+1\n",
    "        k=k+1\n",
    "from collections import Counter\n",
    "TP_normalized_top1=0\n",
    "TP_normalized_top3=0\n",
    "sum_of_actual_rank=0\n",
    "count_of_1=0\n",
    "for i in range(len(svr_normalized_result)):\n",
    "    if svr_normalized_predicted_rank[i]==1:\n",
    "        count_of_1=count_of_1+1\n",
    "        sum_of_actual_rank=sum_of_actual_rank+df_test.finishing_position[i]\n",
    "    if (svr_normalized_predicted_rank[i]==1 and df_test.finishing_position[i]==1):\n",
    "        TP_normalized_top1=TP_normalized_top1+1\n",
    "    if (svr_normalized_predicted_rank[i]==1 and df_test.finishing_position[i]<=3):\n",
    "        TP_normalized_top3=TP_normalized_top3+1\n",
    "Top_normalized_1=TP_normalized_top1/count_of_1\n",
    "Top_normalized_3=TP_normalized_top3/count_of_1\n",
    "ave_normalized_rank=sum_of_actual_rank/count_of_1\n",
    "print(\"SVR Model after normalization: RMSE = \",normalized_root_mean_squared_error_SVR,\"; Top_1 = \",Top_normalized_1,\"; Top_3 = \",Top_normalized_3,\"; Average_Rank = \",ave_normalized_rank)\n",
    "#gbrt\n",
    "gbrt_normalized_predicted_rank=np.zeros((len(X_test),1))\n",
    "for i in range(len(raceid)):\n",
    "    index=list()\n",
    "    for j in np.where(df_test.race_id==raceid[i]):\n",
    "        index.append(j)#index is the row number in X_test whose race id is race_id[i]\n",
    "    index=index[0]\n",
    "    order=np.argsort(np.array(gbrt_normalized_result)[index],axis=0)\n",
    "    k=0\n",
    "    for j in index:\n",
    "        gbrt_normalized_predicted_rank[j]=order[k]+1\n",
    "        k=k+1\n",
    "from collections import Counter\n",
    "TP_normalized_top1=0\n",
    "TP_normalized_top3=0\n",
    "sum_of_actual_rank=0\n",
    "count_of_1=0\n",
    "for i in range(len(gbrt_normalized_result)):\n",
    "    if gbrt_normalized_predicted_rank[i]==1:\n",
    "        count_of_1=count_of_1+1\n",
    "        sum_of_actual_rank=sum_of_actual_rank+df_test.finishing_position[i]\n",
    "    if (gbrt_normalized_predicted_rank[i]==1 and df_test.finishing_position[i]==1):\n",
    "        TP_normalized_top1=TP_normalized_top1+1\n",
    "    if (gbrt_normalized_predicted_rank[i]==1 and df_test.finishing_position[i]<=3):\n",
    "        TP_normalized_top3=TP_normalized_top3+1\n",
    "Top_normalized_1=TP_normalized_top1/count_of_1\n",
    "Top_normalized_3=TP_normalized_top3/count_of_1\n",
    "ave_normalized_rank=sum_of_actual_rank/count_of_1\n",
    "print(\"Gradient Boosting Regression Tree Model after normalization: RMSE = \",normalized_root_mean_squared_error_GBRT,\"; Top_1 = \",Top_normalized_1,\"; Top_3 = \",Top_normalized_3,\"; Average_Rank = \",ave_normalized_rank)\n",
    "#print(svr_normalized_result)\n",
    "#print(gbrt_normalized_result)\n"
   ]
  }
 ],
 "metadata": {
  "kernelspec": {
   "display_name": "Python 3",
   "language": "python",
   "name": "python3"
  },
  "language_info": {
   "codemirror_mode": {
    "name": "ipython",
    "version": 3
   },
   "file_extension": ".py",
   "mimetype": "text/x-python",
   "name": "python",
   "nbconvert_exporter": "python",
   "pygments_lexer": "ipython3",
   "version": "3.6.4"
  }
 },
 "nbformat": 4,
 "nbformat_minor": 2
}
