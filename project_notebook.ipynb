{
 "cells": [
  {
   "cell_type": "code",
   "execution_count": 1,
   "metadata": {
    "collapsed": true
   },
   "outputs": [],
   "source": [
    "# import modules\n",
    "\n",
    "import pandas as pd\n",
    "import numpy as np\n"
   ]
  },
  {
   "cell_type": "code",
   "execution_count": 2,
   "metadata": {
    "collapsed": true,
    "scrolled": true
   },
   "outputs": [],
   "source": [
    "# data preprocessing\n",
    "# 2.2.1\n",
    "\n",
    "df = pd.read_csv('data/race-result-horse.csv')\n",
    "drop_list = []\n",
    "for i in range(df.finishing_position.size):\n",
    "    try:\n",
    "        int(df.finishing_position[i])\n",
    "    except:\n",
    "        drop_list.append(i)\n",
    "        \n",
    "df = df.drop(index=drop_list).reset_index(drop=True)\n",
    "m, n = df.shape"
   ]
  },
  {
   "cell_type": "code",
   "execution_count": 3,
   "metadata": {
    "collapsed": true,
    "scrolled": true
   },
   "outputs": [],
   "source": [
    "# 2.2.2\n",
    "horse_list = list(set(df['horse_name']))\n",
    "horse_dict = {}\n",
    "for name in horse_list:\n",
    "    name_index = []\n",
    "    for i, k in enumerate(df['horse_name']):\n",
    "        if k == name:\n",
    "            name_index.append(i)\n",
    "    horse_dict[name] = df.iloc[name_index][['finishing_position']]"
   ]
  },
  {
   "cell_type": "code",
   "execution_count": 4,
   "metadata": {
    "collapsed": true
   },
   "outputs": [],
   "source": [
    "def recentRunToStr(runs):\n",
    "    l = len(runs)\n",
    "    recent_str = ''\n",
    "    if l == 0:\n",
    "        return recent_str\n",
    "    else:\n",
    "        for i in range(min(6,l)):\n",
    "            if i > 0:\n",
    "                recent_str += '/'\n",
    "            recent_str += str(runs[i])\n",
    "        return recent_str   \n",
    "    \n",
    "def recentRunToAve(runs):\n",
    "    l = len(runs)\n",
    "    if l == 0:\n",
    "        return 7\n",
    "    else:\n",
    "        return sum(runs[0:min(6,l)])/min(6,l)"
   ]
  },
  {
   "cell_type": "code",
   "execution_count": 5,
   "metadata": {
    "collapsed": true,
    "scrolled": true
   },
   "outputs": [],
   "source": [
    "recent_str_list = [None] * m\n",
    "recent_ave_list = [None] * m\n",
    "\n",
    "for name, data in horse_dict.items():\n",
    "    recent_runs = []\n",
    "    recent_str = ''\n",
    "\n",
    "    for row in horse_dict[name].itertuples():       \n",
    "        recent_str = recentRunToStr(recent_runs)\n",
    "        recent_ave = round(recentRunToAve(recent_runs), 2)\n",
    "        recent_runs.insert(0, int(row.finishing_position))\n",
    "        # print(row.Index, recent_str, recent_ave)\n",
    "        recent_str_list[row.Index]=recent_str\n",
    "        recent_ave_list[row.Index]=recent_ave\n",
    "\n",
    "df['recent_6_runs'] = recent_str_list\n",
    "df['recent_ave_rank'] = recent_ave_list"
   ]
  },
  {
   "cell_type": "code",
   "execution_count": 6,
   "metadata": {},
   "outputs": [
    {
     "name": "stdout",
     "output_type": "stream",
     "text": [
      "Numer of horses:  2155\n",
      "Numer of jockeys:  105\n",
      "Numer of trainers:  93\n"
     ]
    }
   ],
   "source": [
    "# 2.2.3\n",
    "jockey_list = list(set(df['jockey']))\n",
    "trainer_list = list(set(df['trainer']))\n",
    "horse = dict((name, i) for i, name in enumerate(horse_list))\n",
    "jockey = dict((name, i) for i, name in enumerate(jockey_list))\n",
    "trainer = dict((name, i) for i, name in enumerate(trainer_list))\n",
    "print(\"Numer of horses: \", len(horse_list))\n",
    "print(\"Numer of jockeys: \", len(jockey_list))\n",
    "print(\"Numer of trainers: \", len(trainer_list))"
   ]
  },
  {
   "cell_type": "code",
   "execution_count": 7,
   "metadata": {
    "collapsed": true
   },
   "outputs": [],
   "source": [
    "# compute jockey_ave_rank\n",
    "jockey_dict = {}\n",
    "for name in jockey_list:\n",
    "    name_index = []\n",
    "    for i, k in enumerate(df['jockey']):\n",
    "        if k == name:\n",
    "            name_index.append(i)\n",
    "    jockey_dict[name] = df.iloc[name_index][['finishing_position']]\n",
    "    \n",
    "recent_jockey_ave_list = [None] * m\n",
    "\n",
    "for name, data in jockey_dict.items():\n",
    "    recent_runs = []\n",
    "    for row in jockey_dict[name].itertuples():       \n",
    "        recent_ave = round(7 if len(recent_runs) == 0 else sum(recent_runs)/len(recent_runs))\n",
    "        recent_runs.insert(0, int(row.finishing_position))\n",
    "        recent_jockey_ave_list[row.Index]=recent_ave\n",
    "\n",
    "df['jockey_ave_rank'] = recent_jockey_ave_list \n",
    "\n",
    "# compute trainer_ave_rank\n",
    "trainer_dict = {}\n",
    "for name in trainer_list:\n",
    "    name_index = []\n",
    "    for i, k in enumerate(df['trainer']):\n",
    "        if k == name:\n",
    "            name_index.append(i)\n",
    "    trainer_dict[name] = df.iloc[name_index][['finishing_position']]\n",
    "    \n",
    "recent_trainer_ave_list = [None] * m\n",
    "\n",
    "for name, data in trainer_dict.items():\n",
    "    recent_runs = []\n",
    "    for row in trainer_dict[name].itertuples():       \n",
    "        recent_ave = round(7 if len(recent_runs) == 0 else sum(recent_runs)/len(recent_runs))\n",
    "        recent_runs.insert(0, int(row.finishing_position))\n",
    "        recent_trainer_ave_list[row.Index]=recent_ave\n",
    "\n",
    "df['trainer_ave_rank'] = recent_trainer_ave_list "
   ]
  },
  {
   "cell_type": "code",
   "execution_count": 8,
   "metadata": {
    "collapsed": true,
    "scrolled": true
   },
   "outputs": [],
   "source": [
    "# 2.2.4\n",
    "dff = pd.read_csv('data/race-result-race.csv')\n",
    "race_id_dist = dff[['race_id', 'race_distance']]\n",
    "df = df.join(race_id_dist.set_index('race_id'), on='race_id')\n"
   ]
  },
  {
   "cell_type": "code",
   "execution_count": 9,
   "metadata": {
    "collapsed": true
   },
   "outputs": [],
   "source": [
    "#2.2.5 (split)\n",
    "trainsize=int(np.floor(0.8*len(df)))\n",
    "df_train=df.head(trainsize)\n",
    "df_test=df.tail(len(df)-trainsize)\n",
    "df_train.to_csv('data/training.csv')\n",
    "df_test.to_csv('data/testing.csv')"
   ]
  },
  {
   "cell_type": "code",
   "execution_count": 10,
   "metadata": {
    "scrolled": true
   },
   "outputs": [
    {
     "data": {
      "text/plain": [
       "{'Y Yahagi': 0,\n",
       " 'T Tanaka': 1,\n",
       " 'R Charlton': 2,\n",
       " 'L Ho': 3,\n",
       " 'K C Chong': 4,\n",
       " 'S H Cheong': 5,\n",
       " 'K Kato': 6,\n",
       " 'C W Chang': 7,\n",
       " 'A Fabre': 8,\n",
       " 'Sir M R Stoute': 9,\n",
       " 'R Hannon': 10,\n",
       " 'T K Ng': 11,\n",
       " 'M Sakaguchi': 12,\n",
       " 'C Waller': 13,\n",
       " 'C Appleby': 14,\n",
       " 'D Simcock': 15,\n",
       " 'A Schutz': 16,\n",
       " \"P O'Sullivan\": 17,\n",
       " 'Y S Tsui': 18,\n",
       " 'F Rohaut': 19,\n",
       " 'K C Wong': 20,\n",
       " 'S Woods': 21,\n",
       " 'E A L Dunlop': 22,\n",
       " 'N Takagi': 23,\n",
       " 'P B Shaw': 24,\n",
       " 'A Bull': 25,\n",
       " 'R Okubo': 26,\n",
       " 'J S Bolger': 27,\n",
       " 'F Head': 28,\n",
       " 'G Portelli': 29,\n",
       " 'J Moore': 30,\n",
       " 'T Ozeki': 31,\n",
       " 'A S Cruz': 32,\n",
       " 'M C Tam': 33,\n",
       " 'J Lau': 34,\n",
       " 'R Hickmott': 35,\n",
       " 'G Bietolini': 36,\n",
       " 'R Varian': 37,\n",
       " 'P Bary': 38,\n",
       " 'P F Yiu': 39,\n",
       " 'T A Hogan': 40,\n",
       " 'C Fownes': 41,\n",
       " 'S Chow': 42,\n",
       " 'J M Moore': 43,\n",
       " \"J O'Shea\": 44,\n",
       " 'W H Tse': 45,\n",
       " 'I Sameshima': 46,\n",
       " 'H Fujiwara': 47,\n",
       " 'C S Shum': 48,\n",
       " 'M Saito': 49,\n",
       " 'G Enebish': 50,\n",
       " 'R Gibson': 51,\n",
       " 'A Lee': 52,\n",
       " 'S Kunieda': 53,\n",
       " 'M F de Kock': 54,\n",
       " 'E M Lynam': 55,\n",
       " \"J O'Hara\": 56,\n",
       " 'D Cruz': 57,\n",
       " 'C H Yip': 58,\n",
       " 'N Hori': 59,\n",
       " 'M Hawkes': 60,\n",
       " 'E Mader': 61,\n",
       " 'M Delzangles': 62,\n",
       " 'D J Hall': 63,\n",
       " 'K L Man': 64,\n",
       " 'R Fahey': 65,\n",
       " 'A T Millard': 66,\n",
       " 'Barande-Barbe': 67,\n",
       " 'R Heathcote': 68,\n",
       " 'Y Ikee': 69,\n",
       " 'M L W Bell': 70,\n",
       " 'T P Yung': 71,\n",
       " 'Ed Walker': 72,\n",
       " 'D E Ferraris': 73,\n",
       " 'K Yoshimura': 74,\n",
       " 'O Hirata': 75,\n",
       " 'W A Ward': 76,\n",
       " 'D K Weld': 77,\n",
       " 'J Size': 78,\n",
       " 'K Fujioka': 79,\n",
       " 'G Allendorf': 80,\n",
       " \"A P O'Brien\": 81,\n",
       " 'D A Hayes': 82,\n",
       " 'G W Moore': 83,\n",
       " 'de Royer Dupre': 84,\n",
       " 'H Otonashi': 85,\n",
       " \"D O'Meara\": 86,\n",
       " 'K W Lui': 87,\n",
       " 'W Y So': 88,\n",
       " 'K Lees': 89,\n",
       " 'P Schiergen': 90,\n",
       " 'Pat Lee': 91,\n",
       " 'Y C Fung': 92}"
      ]
     },
     "execution_count": 10,
     "metadata": {},
     "output_type": "execute_result"
    }
   ],
   "source": [
    "\n",
    "dict((name, i) for i, name in enumerate(list(set(df['trainer']))))"
   ]
  },
  {
   "cell_type": "code",
   "execution_count": 11,
   "metadata": {
    "scrolled": true
   },
   "outputs": [
    {
     "data": {
      "text/plain": [
       "77"
      ]
     },
     "execution_count": 11,
     "metadata": {},
     "output_type": "execute_result"
    }
   ],
   "source": [
    "trainer[\"D K Weld\"]"
   ]
  },
  {
   "cell_type": "code",
   "execution_count": 2,
   "metadata": {},
   "outputs": [
    {
     "ename": "ImportError",
     "evalue": "No module named pandas",
     "output_type": "error",
     "traceback": [
      "\u001b[0;31m---------------------------------------------------------------------------\u001b[0m",
      "\u001b[0;31mImportError\u001b[0m                               Traceback (most recent call last)",
      "\u001b[0;32m<ipython-input-2-9395368641a9>\u001b[0m in \u001b[0;36m<module>\u001b[0;34m()\u001b[0m\n\u001b[1;32m      1\u001b[0m \u001b[0;31m#3.1.1 Logistic ( in new python file)\u001b[0m\u001b[0;34m\u001b[0m\u001b[0;34m\u001b[0m\u001b[0m\n\u001b[0;32m----> 2\u001b[0;31m \u001b[0;32mimport\u001b[0m \u001b[0mpandas\u001b[0m \u001b[0;32mas\u001b[0m \u001b[0mpd\u001b[0m\u001b[0;34m\u001b[0m\u001b[0m\n\u001b[0m\u001b[1;32m      3\u001b[0m \u001b[0;32mimport\u001b[0m \u001b[0mnumpy\u001b[0m \u001b[0;32mas\u001b[0m \u001b[0mnp\u001b[0m\u001b[0;34m\u001b[0m\u001b[0m\n\u001b[1;32m      4\u001b[0m \u001b[0mdf_train\u001b[0m \u001b[0;34m=\u001b[0m \u001b[0mpd\u001b[0m\u001b[0;34m.\u001b[0m\u001b[0mread_csv\u001b[0m\u001b[0;34m(\u001b[0m\u001b[0;34m'data/training.csv'\u001b[0m\u001b[0;34m)\u001b[0m\u001b[0;34m\u001b[0m\u001b[0m\n\u001b[1;32m      5\u001b[0m \u001b[0mdf_test\u001b[0m \u001b[0;34m=\u001b[0m \u001b[0mpd\u001b[0m\u001b[0;34m.\u001b[0m\u001b[0mread_csv\u001b[0m\u001b[0;34m(\u001b[0m\u001b[0;34m'data/testing.csv'\u001b[0m\u001b[0;34m)\u001b[0m\u001b[0;34m\u001b[0m\u001b[0m\n",
      "\u001b[0;31mImportError\u001b[0m: No module named pandas"
     ]
    }
   ],
   "source": [
    "#3.1.1 Logistic ( in new python file)\n",
    "import pandas as pd\n",
    "import numpy as np\n",
    "df_train = pd.read_csv('data/training.csv')\n",
    "df_test = pd.read_csv('data/testing.csv')\n",
    "train_horse=np.zeros((trainsize,1))\n",
    "train_jockey=np.zeros((trainsize,1))\n",
    "train_trainer=np.zeros((trainsize,1))\n",
    "print(df_train.horse_name[1])\n",
    "print(horse[df_train.horse_name[1]])\n",
    "#print(train_horse[1,0])\n",
    "for i in range(trainsize):\n",
    "    train_horse[i,0] = horse[df_train.horse_name[i]]\n",
    "    train_jockey[i,0] = jockey[df_train.jockey[i]]\n",
    "    train_trainer[i,0] = trainer[df_train.trainer[i]]\n",
    "actual_weight=df_train.actual_weight.reshape((trainsize,1))\n",
    "declared_weight=df_train.declared_horse_weight.reshape((trainsize,1))\n",
    "X_train = np.hstack((train_horse,train_jockey,train_trainer,actual_weight,declared_weight)) #we use horse,jockey,trainer,actual weight and declared weight as independent variables\n",
    "y_train = df_train.finishing_position\n",
    "lr_model=LogisticRegression()\n",
    "lr_model.fit(X_train,y_train)\n",
    "test_horse=np.zeros((len(df)-trainsize,1))\n",
    "test_jockey=np.zeros((len(df)-trainsize,1))\n",
    "test_trainer=np.zeros((len(df)-trainsize,1))\n",
    "#print(df_test.horse_name[])\n",
    "for i in range(trainsize,len(df)):\n",
    "    test_horse[i-trainsize,0] = horse[df_test.horse_name[i]]\n",
    "    test_jockey[i-trainsize,0] = jockey[df_test.jockey[i]]\n",
    "    test_trainer[i-trainsize,0] = trainer[df_test.trainer[i]]\n",
    "actual_weight_test=df_test.actual_weight.reshape((len(df)-trainsize,1))\n",
    "declared_weight_test=df_test.declared_horse_weight.reshape((len(df)-trainsize,1))\n",
    "X_test = np.hstack((test_horse,test_jockey,test_trainer,actual_weight_test,declared_weight_test))\n",
    "y_test = df_test.finishing_position\n",
    "result = lr_model.predict(X_test)\n",
    "print(result.shape)\n",
    "score_of_model = lr_model.score(X_test,y_test)\n",
    "print(score_of_model)\n"
   ]
  },
  {
   "cell_type": "code",
   "execution_count": null,
   "metadata": {
    "collapsed": true
   },
   "outputs": [],
   "source": []
  }
 ],
 "metadata": {
  "kernelspec": {
   "display_name": "Python 3",
   "language": "python",
   "name": "python3"
  },
  "language_info": {
   "codemirror_mode": {
    "name": "ipython",
    "version": 2
   },
   "file_extension": ".py",
   "mimetype": "text/x-python",
   "name": "python",
   "nbconvert_exporter": "python",
   "pygments_lexer": "ipython2",
   "version": "2.7.14"
  }
 },
 "nbformat": 4,
 "nbformat_minor": 2
}
