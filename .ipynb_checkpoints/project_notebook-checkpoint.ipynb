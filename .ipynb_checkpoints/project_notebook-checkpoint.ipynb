{
 "cells": [
  {
   "cell_type": "code",
   "execution_count": 1,
   "metadata": {},
   "outputs": [],
   "source": [
    "# import modules\n",
    "\n",
    "import pandas as pd\n",
    "import numpy as np\n"
   ]
  },
  {
   "cell_type": "code",
   "execution_count": 2,
   "metadata": {
    "scrolled": true
   },
   "outputs": [],
   "source": [
    "# data preprocessing\n",
    "# 2.2.1\n",
    "\n",
    "df = pd.read_csv('data/race-result-horse.csv')\n",
    "drop_list = []\n",
    "for i in range(df.finishing_position.size):\n",
    "    try:\n",
    "        int(df.finishing_position[i])\n",
    "    except:\n",
    "        drop_list.append(i)\n",
    "        \n",
    "df = df.drop(index=drop_list).reset_index(drop=True)\n",
    "m, n = df.shape"
   ]
  },
  {
   "cell_type": "code",
   "execution_count": 3,
   "metadata": {
    "scrolled": true
   },
   "outputs": [],
   "source": [
    "# 2.2.2\n",
    "horse_list = list(set(df['horse_name']))\n",
    "horse_dict = {}\n",
    "for name in horse_list:\n",
    "    name_index = []\n",
    "    for i, k in enumerate(df['horse_name']):\n",
    "        if k == name:\n",
    "            name_index.append(i)\n",
    "    horse_dict[name] = df.iloc[name_index][['finishing_position']]"
   ]
  },
  {
   "cell_type": "code",
   "execution_count": 4,
   "metadata": {},
   "outputs": [],
   "source": [
    "def recentRunToStr(runs):\n",
    "    l = len(runs)\n",
    "    recent_str = ''\n",
    "    if l == 0:\n",
    "        return recent_str\n",
    "    else:\n",
    "        for i in range(min(6,l)):\n",
    "            if i > 0:\n",
    "                recent_str += '/'\n",
    "            recent_str += str(runs[i])\n",
    "        return recent_str   \n",
    "    \n",
    "def recentRunToAve(runs):\n",
    "    l = len(runs)\n",
    "    if l == 0:\n",
    "        return 7\n",
    "    else:\n",
    "        return sum(runs[0:min(6,l)])/min(6,l)"
   ]
  },
  {
   "cell_type": "code",
   "execution_count": 5,
   "metadata": {
    "scrolled": true
   },
   "outputs": [],
   "source": [
    "recent_str_list = [None] * m\n",
    "recent_ave_list = [None] * m\n",
    "\n",
    "for name, data in horse_dict.items():\n",
    "    recent_runs = []\n",
    "    recent_str = ''\n",
    "\n",
    "    for row in horse_dict[name].itertuples():       \n",
    "        recent_str = recentRunToStr(recent_runs)\n",
    "        recent_ave = round(recentRunToAve(recent_runs), 2)\n",
    "        recent_runs.insert(0, int(row.finishing_position))\n",
    "        # print(row.Index, recent_str, recent_ave)\n",
    "        recent_str_list[row.Index]=recent_str\n",
    "        recent_ave_list[row.Index]=recent_ave\n",
    "\n",
    "df['recent_6_runs'] = recent_str_list\n",
    "df['recent_ave_rank'] = recent_ave_list"
   ]
  },
  {
   "cell_type": "code",
   "execution_count": 6,
   "metadata": {},
   "outputs": [
    {
     "name": "stdout",
     "output_type": "stream",
     "text": [
      "Numer of horses:  2155\n",
      "Numer of jockeys:  105\n",
      "Numer of trainers:  93\n"
     ]
    }
   ],
   "source": [
    "# 2.2.3\n",
    "jockey_list = list(set(df['jockey']))\n",
    "trainer_list = list(set(df['trainer']))\n",
    "horse = dict((name, i) for i, name in enumerate(horse_list))\n",
    "jockey = dict((name, i) for i, name in enumerate(jockey_list))\n",
    "trainer = dict((name, i) for i, name in enumerate(trainer_list))\n",
    "print(\"Numer of horses: \", len(horse_list))\n",
    "print(\"Numer of jockeys: \", len(jockey_list))\n",
    "print(\"Numer of trainers: \", len(trainer_list))"
   ]
  },
  {
   "cell_type": "code",
   "execution_count": 7,
   "metadata": {},
   "outputs": [],
   "source": [
    "# compute jockey_ave_rank\n",
    "jockey_dict = {}\n",
    "for name in jockey_list:\n",
    "    name_index = []\n",
    "    for i, k in enumerate(df['jockey']):\n",
    "        if k == name:\n",
    "            name_index.append(i)\n",
    "    jockey_dict[name] = df.iloc[name_index][['finishing_position']]\n",
    "    \n",
    "recent_jockey_ave_list = [None] * m\n",
    "\n",
    "for name, data in jockey_dict.items():\n",
    "    recent_runs = []\n",
    "    for row in jockey_dict[name].itertuples():       \n",
    "        recent_ave = round(7 if len(recent_runs) == 0 else sum(recent_runs)/len(recent_runs))\n",
    "        recent_runs.insert(0, int(row.finishing_position))\n",
    "        recent_jockey_ave_list[row.Index]=recent_ave\n",
    "\n",
    "df['jockey_ave_rank'] = recent_jockey_ave_list \n",
    "\n",
    "# compute trainer_ave_rank\n",
    "trainer_dict = {}\n",
    "for name in trainer_list:\n",
    "    name_index = []\n",
    "    for i, k in enumerate(df['trainer']):\n",
    "        if k == name:\n",
    "            name_index.append(i)\n",
    "    trainer_dict[name] = df.iloc[name_index][['finishing_position']]\n",
    "    \n",
    "recent_trainer_ave_list = [None] * m\n",
    "\n",
    "for name, data in trainer_dict.items():\n",
    "    recent_runs = []\n",
    "    for row in trainer_dict[name].itertuples():       \n",
    "        recent_ave = round(7 if len(recent_runs) == 0 else sum(recent_runs)/len(recent_runs))\n",
    "        recent_runs.insert(0, int(row.finishing_position))\n",
    "        recent_trainer_ave_list[row.Index]=recent_ave\n",
    "\n",
    "df['trainer_ave_rank'] = recent_trainer_ave_list "
   ]
  },
  {
   "cell_type": "code",
   "execution_count": 8,
   "metadata": {
    "scrolled": true
   },
   "outputs": [],
   "source": [
    "# 2.2.4\n",
    "dff = pd.read_csv('data/race-result-race.csv')\n",
    "race_id_dist = dff[['race_id', 'race_distance']]\n",
    "df = df.join(race_id_dist.set_index('race_id'), on='race_id')\n"
   ]
  },
  {
   "cell_type": "code",
   "execution_count": 9,
   "metadata": {},
   "outputs": [],
   "source": [
    "#2.2.5 (split)\n",
    "trainsize=int(np.floor(0.8*len(df)))\n",
    "df_train=df.head(trainsize)\n",
    "df_test=df.tail(len(df)-trainsize)\n",
    "df_train.to_csv('data/training.csv')\n",
    "df_test.to_csv('data/testing.csv')"
   ]
  },
  {
   "cell_type": "code",
   "execution_count": 10,
   "metadata": {
    "scrolled": true
   },
   "outputs": [
    {
     "data": {
      "text/plain": [
       "{'Y C Fung': 0,\n",
       " 'H Otonashi': 1,\n",
       " 'M C Tam': 2,\n",
       " 'Y Ikee': 3,\n",
       " 'A Lee': 4,\n",
       " 'P F Yiu': 5,\n",
       " 'M L W Bell': 6,\n",
       " 'R Varian': 7,\n",
       " 'D J Hall': 8,\n",
       " \"P O'Sullivan\": 9,\n",
       " 'C W Chang': 10,\n",
       " 'C Waller': 11,\n",
       " 'de Royer Dupre': 12,\n",
       " 'J M Moore': 13,\n",
       " 'K L Man': 14,\n",
       " 'T K Ng': 15,\n",
       " \"D O'Meara\": 16,\n",
       " 'J S Bolger': 17,\n",
       " 'D Simcock': 18,\n",
       " 'G Bietolini': 19,\n",
       " 'G Portelli': 20,\n",
       " 'D A Hayes': 21,\n",
       " 'A Fabre': 22,\n",
       " 'J Moore': 23,\n",
       " 'G W Moore': 24,\n",
       " 'Ed Walker': 25,\n",
       " 'R Gibson': 26,\n",
       " 'W A Ward': 27,\n",
       " 'S Kunieda': 28,\n",
       " 'L Ho': 29,\n",
       " 'R Hannon': 30,\n",
       " 'M F de Kock': 31,\n",
       " 'K Lees': 32,\n",
       " 'G Enebish': 33,\n",
       " 'C H Yip': 34,\n",
       " 'C Fownes': 35,\n",
       " 'F Head': 36,\n",
       " 'M Sakaguchi': 37,\n",
       " 'K C Chong': 38,\n",
       " 'H Fujiwara': 39,\n",
       " 'K Yoshimura': 40,\n",
       " 'E A L Dunlop': 41,\n",
       " 'Barande-Barbe': 42,\n",
       " 'Y S Tsui': 43,\n",
       " 'D Cruz': 44,\n",
       " 'K Kato': 45,\n",
       " 'E M Lynam': 46,\n",
       " 'C S Shum': 47,\n",
       " 'Sir M R Stoute': 48,\n",
       " 'R Heathcote': 49,\n",
       " 'N Takagi': 50,\n",
       " 'E Mader': 51,\n",
       " 'R Fahey': 52,\n",
       " 'S Woods': 53,\n",
       " 'I Sameshima': 54,\n",
       " 'A T Millard': 55,\n",
       " 'W Y So': 56,\n",
       " 'J Size': 57,\n",
       " 'A S Cruz': 58,\n",
       " 'J Lau': 59,\n",
       " 'S Chow': 60,\n",
       " 'K W Lui': 61,\n",
       " 'R Okubo': 62,\n",
       " 'P Schiergen': 63,\n",
       " 'R Hickmott': 64,\n",
       " 'M Hawkes': 65,\n",
       " 'T Ozeki': 66,\n",
       " 'D K Weld': 67,\n",
       " 'Pat Lee': 68,\n",
       " 'P B Shaw': 69,\n",
       " 'T Tanaka': 70,\n",
       " 'F Rohaut': 71,\n",
       " 'W H Tse': 72,\n",
       " 'R Charlton': 73,\n",
       " \"J O'Hara\": 74,\n",
       " \"J O'Shea\": 75,\n",
       " 'T A Hogan': 76,\n",
       " 'Y Yahagi': 77,\n",
       " 'K C Wong': 78,\n",
       " 'A Schutz': 79,\n",
       " 'K Fujioka': 80,\n",
       " 'S H Cheong': 81,\n",
       " 'G Allendorf': 82,\n",
       " 'N Hori': 83,\n",
       " 'D E Ferraris': 84,\n",
       " 'M Saito': 85,\n",
       " \"A P O'Brien\": 86,\n",
       " 'T P Yung': 87,\n",
       " 'M Delzangles': 88,\n",
       " 'A Bull': 89,\n",
       " 'C Appleby': 90,\n",
       " 'P Bary': 91,\n",
       " 'O Hirata': 92}"
      ]
     },
     "execution_count": 10,
     "metadata": {},
     "output_type": "execute_result"
    }
   ],
   "source": [
    "\n",
    "dict((name, i) for i, name in enumerate(list(set(df['trainer']))))"
   ]
  },
  {
   "cell_type": "code",
   "execution_count": 11,
   "metadata": {},
   "outputs": [
    {
     "data": {
      "text/plain": [
       "67"
      ]
     },
     "execution_count": 11,
     "metadata": {},
     "output_type": "execute_result"
    }
   ],
   "source": [
    "trainer[\"D K Weld\"]"
   ]
  }
 ],
 "metadata": {
  "kernelspec": {
   "display_name": "Python 3",
   "language": "python",
   "name": "python3"
  },
  "language_info": {
   "codemirror_mode": {
    "name": "ipython",
    "version": 3
   },
   "file_extension": ".py",
   "mimetype": "text/x-python",
   "name": "python",
   "nbconvert_exporter": "python",
   "pygments_lexer": "ipython3",
   "version": "3.6.4"
  }
 },
 "nbformat": 4,
 "nbformat_minor": 2
}
