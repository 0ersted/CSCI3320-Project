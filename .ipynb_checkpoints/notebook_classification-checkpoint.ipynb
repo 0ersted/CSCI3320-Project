{
 "cells": [
  {
   "cell_type": "code",
   "execution_count": 1,
   "metadata": {},
   "outputs": [],
   "source": [
    "import pandas as pd\n",
    "import numpy as np\n",
    "import sklearn"
   ]
  },
  {
   "cell_type": "code",
   "execution_count": 2,
   "metadata": {},
   "outputs": [],
   "source": [
    "# data preparation\n",
    "df_train = pd.read_csv('data/training.csv')\n",
    "df_test = pd.read_csv('data/testing.csv')\n",
    "df = pd.read_csv('data/race-result-horse.csv')\n",
    "m, n = np.shape(df)\n",
    "m_train, _ = np.shape(df_train)\n",
    "m_test, _ = np.shape(df_test)\n",
    "\n",
    "#produce dicts for horse,jockey,trainer\n",
    "horse=list()\n",
    "jockey=list()\n",
    "trainer=list()\n",
    "for i in range(len(df)):\n",
    "    if df.horse_name[i] not in horse:\n",
    "        horse.append(df.horse_name[i])\n",
    "    if df.jockey[i] not in jockey:\n",
    "        jockey.append(df.jockey[i])\n",
    "    if df.trainer[i] not in jockey:\n",
    "        trainer.append(df.trainer[i])\n",
    "train_horse=np.zeros((m_train,1))\n",
    "train_jockey=np.zeros((m_train,1))\n",
    "train_trainer=np.zeros((m_train,1))"
   ]
  },
  {
   "cell_type": "code",
   "execution_count": 11,
   "metadata": {},
   "outputs": [
    {
     "name": "stderr",
     "output_type": "stream",
     "text": [
      "/usr/local/lib/python3.6/site-packages/ipykernel_launcher.py:6: FutureWarning: reshape is deprecated and will raise in a subsequent release. Please use .values.reshape(...) instead\n",
      "  \n",
      "/usr/local/lib/python3.6/site-packages/ipykernel_launcher.py:7: FutureWarning: reshape is deprecated and will raise in a subsequent release. Please use .values.reshape(...) instead\n",
      "  import sys\n",
      "/usr/local/lib/python3.6/site-packages/ipykernel_launcher.py:8: FutureWarning: reshape is deprecated and will raise in a subsequent release. Please use .values.reshape(...) instead\n",
      "  \n",
      "/usr/local/lib/python3.6/site-packages/ipykernel_launcher.py:9: FutureWarning: reshape is deprecated and will raise in a subsequent release. Please use .values.reshape(...) instead\n",
      "  if __name__ == '__main__':\n",
      "/usr/local/lib/python3.6/site-packages/ipykernel_launcher.py:25: FutureWarning: reshape is deprecated and will raise in a subsequent release. Please use .values.reshape(...) instead\n",
      "/usr/local/lib/python3.6/site-packages/ipykernel_launcher.py:26: FutureWarning: reshape is deprecated and will raise in a subsequent release. Please use .values.reshape(...) instead\n",
      "/usr/local/lib/python3.6/site-packages/ipykernel_launcher.py:27: FutureWarning: reshape is deprecated and will raise in a subsequent release. Please use .values.reshape(...) instead\n",
      "/usr/local/lib/python3.6/site-packages/ipykernel_launcher.py:28: FutureWarning: reshape is deprecated and will raise in a subsequent release. Please use .values.reshape(...) instead\n"
     ]
    }
   ],
   "source": [
    "# prepare training data\n",
    "for i in range(m_train):\n",
    "    train_horse[i,0] = horse.index(df_train.horse_name[i])\n",
    "    train_jockey[i,0] = jockey.index(df_train.jockey[i])\n",
    "    train_trainer[i,0] = trainer.index(df_train.trainer[i])\n",
    "actual_weight = df_train.actual_weight.reshape((m_train,1))\n",
    "declared_weight = df_train.declared_horse_weight.reshape((m_train,1))\n",
    "win_odds = df_train.win_odds.reshape((m_train,1))\n",
    "race_distance = df_train.race_distance.reshape((m_train,1))\n",
    "\n",
    "# we use horse, jockey, trainer, actual weight, declared weight, win odds, race distance as independent variables\n",
    "X_train = np.hstack((train_horse,train_jockey,train_trainer,actual_weight,declared_weight, win_odds, race_distance)) \n",
    "y_train = df_train.finishing_position\n",
    "\n",
    "# prepare test data\n",
    "test_horse=np.zeros((m_test,1))\n",
    "test_jockey=np.zeros((m_test,1))\n",
    "test_trainer=np.zeros((m_test,1))\n",
    "\n",
    "#print(df_test.horse_name[])\n",
    "for i in range(len(df_test)):\n",
    "    test_horse[i,0] = horse.index(df_test.horse_name[i])\n",
    "    test_jockey[i,0] = jockey.index(df_test.jockey[i])\n",
    "    test_trainer[i,0] = trainer.index(df_test.trainer[i])\n",
    "actual_weight_test = df_test.actual_weight.reshape((m_test,1))\n",
    "declared_weight_test = df_test.declared_horse_weight.reshape((m_test,1))\n",
    "win_odds_test = df_test.win_odds.reshape((m_test,1))\n",
    "race_distance_test = df_test.race_distance.reshape((m_test,1))\n",
    "X_test = np.hstack((test_horse,test_jockey,test_trainer,actual_weight_test,declared_weight_test, win_odds_test, race_distance_test))\n",
    "y_test = df_test.finishing_position"
   ]
  },
  {
   "cell_type": "code",
   "execution_count": 12,
   "metadata": {},
   "outputs": [
    {
     "name": "stdout",
     "output_type": "stream",
     "text": [
      "(5873,)\n",
      "0.12753277711561384\n"
     ]
    }
   ],
   "source": [
    "#3.1.1 Logistic \n",
    "lr_model = sklearn.linear_model.LogisticRegression()\n",
    "lr_model.fit(X_train,y_train)\n",
    "result = lr_model.predict(X_test)\n",
    "print(result.shape)\n",
    "score_of_model = lr_model.score(X_test,y_test)\n",
    "print(score_of_model)"
   ]
  },
  {
   "cell_type": "code",
   "execution_count": null,
   "metadata": {},
   "outputs": [],
   "source": [
    "# 3.1.2 Naïve Bayes\n"
   ]
  }
 ],
 "metadata": {
  "kernelspec": {
   "display_name": "Python 3",
   "language": "python",
   "name": "python3"
  },
  "language_info": {
   "codemirror_mode": {
    "name": "ipython",
    "version": 3
   },
   "file_extension": ".py",
   "mimetype": "text/x-python",
   "name": "python",
   "nbconvert_exporter": "python",
   "pygments_lexer": "ipython3",
   "version": "3.6.4"
  }
 },
 "nbformat": 4,
 "nbformat_minor": 2
}
