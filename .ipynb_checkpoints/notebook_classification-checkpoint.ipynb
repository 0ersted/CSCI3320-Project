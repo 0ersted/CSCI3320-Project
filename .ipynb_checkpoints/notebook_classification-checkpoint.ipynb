{
 "cells": [
  {
   "cell_type": "code",
   "execution_count": null,
   "metadata": {},
   "outputs": [],
   "source": [
    "import pandas as pd\n",
    "import numpy as np"
   ]
  },
  {
   "cell_type": "code",
   "execution_count": null,
   "metadata": {},
   "outputs": [],
   "source": [
    "#3.1.1 Logistic ( in new python file)\n",
    "df_train = pd.read_csv('data/training.csv')\n",
    "df_test = pd.read_csv('data/testing.csv')\n",
    "df = pd.read_csv('data/race-result-horse.csv')\n",
    "#produce dicts for horse,jockey,trainer\n",
    "horse=list()\n",
    "jockey=list()\n",
    "trainer=list()\n",
    "for i in range(len(df)):\n",
    "    if df.horse_name[i] not in horse:\n",
    "        horse.append(df.horse_name[i])\n",
    "    if df.jockey[i] not in jockey:\n",
    "        jockey.append(df.jockey[i])\n",
    "    if df.trainer[i] not in jockey:\n",
    "        trainer.append(df.trainer[i])\n",
    "train_horse=np.zeros((trainsize,1))\n",
    "train_jockey=np.zeros((trainsize,1))\n",
    "train_trainer=np.zeros((trainsize,1))\n",
    "print(df_train.horse_name[1])\n",
    "print(horse[df_train.horse_name[1]])\n",
    "#print(train_horse[1,0])\n",
    "for i in range(trainsize):\n",
    "    train_horse[i,0] = horse.index(df_train.horse_name[i])\n",
    "    train_jockey[i,0] = jockey.index(df_train.jockey[i])\n",
    "    train_trainer[i,0] = trainer.index(df_train.trainer[i])\n",
    "actual_weight=df_train.actual_weight.reshape((trainsize,1))\n",
    "declared_weight=df_train.declared_horse_weight.reshape((trainsize,1))\n",
    "X_train = np.hstack((train_horse,train_jockey,train_trainer,actual_weight,declared_weight)) #we use horse,jockey,trainer,actual weight and declared weight as independent variables\n",
    "y_train = df_train.finishing_position\n",
    "lr_model=LogisticRegression()\n",
    "lr_model.fit(X_train,y_train)\n",
    "test_horse=np.zeros((len(df)-trainsize,1))\n",
    "test_jockey=np.zeros((len(df)-trainsize,1))\n",
    "test_trainer=np.zeros((len(df)-trainsize,1))\n",
    "#print(df_test.horse_name[])\n",
    "for i in range(trainsize,len(df)):\n",
    "    test_horse[i-trainsize,0] = horse.index(df_test.horse_name[i])\n",
    "    test_jockey[i-trainsize,0] = jockey.index(df_test.jockey[i])\n",
    "    test_trainer[i-trainsize,0] = trainer.index(df_test.trainer[i])\n",
    "actual_weight_test=df_test.actual_weight.reshape((len(df)-trainsize,1))\n",
    "declared_weight_test=df_test.declared_horse_weight.reshape((len(df)-trainsize,1))\n",
    "X_test = np.hstack((test_horse,test_jockey,test_trainer,actual_weight_test,declared_weight_test))\n",
    "y_test = df_test.finishing_position\n",
    "result = lr_model.predict(X_test)\n",
    "print(result.shape)\n",
    "score_of_model = lr_model.score(X_test,y_test)\n",
    "print(score_of_model)\n",
    "\n"
   ]
  }
 ],
 "metadata": {
  "kernelspec": {
   "display_name": "Python 3",
   "language": "python",
   "name": "python3"
  },
  "language_info": {
   "codemirror_mode": {
    "name": "ipython",
    "version": 3
   },
   "file_extension": ".py",
   "mimetype": "text/x-python",
   "name": "python",
   "nbconvert_exporter": "python",
   "pygments_lexer": "ipython3",
   "version": "3.6.4"
  }
 },
 "nbformat": 4,
 "nbformat_minor": 2
}
