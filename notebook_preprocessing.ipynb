{
 "cells": [
  {
   "cell_type": "code",
   "execution_count": 1,
   "metadata": {},
   "outputs": [],
   "source": [
    "# import modules\n",
    "import pandas as pd\n",
    "import numpy as np"
   ]
  },
  {
   "cell_type": "code",
   "execution_count": 2,
   "metadata": {
    "scrolled": true
   },
   "outputs": [],
   "source": [
    "# data preprocessing\n",
    "# 2.2.1\n",
    "\n",
    "df = pd.read_csv('data/race-result-horse.csv')\n",
    "drop_list = []\n",
    "for i in range(df.finishing_position.size):\n",
    "    try:\n",
    "        int(df.finishing_position[i])\n",
    "    except:\n",
    "        drop_list.append(i)\n",
    "        \n",
    "df = df.drop(index=drop_list).reset_index(drop=True)\n",
    "m, n = df.shape"
   ]
  },
  {
   "cell_type": "code",
   "execution_count": 3,
   "metadata": {
    "scrolled": true
   },
   "outputs": [],
   "source": [
    "# 2.2.2\n",
    "horse_list = list(set(df['horse_name']))\n",
    "horse_dict = {}\n",
    "for name in horse_list:\n",
    "    name_index = []\n",
    "    for i, k in enumerate(df['horse_name']):\n",
    "        if k == name:\n",
    "            name_index.append(i)\n",
    "    horse_dict[name] = df.iloc[name_index][['finishing_position']]"
   ]
  },
  {
   "cell_type": "code",
   "execution_count": 4,
   "metadata": {},
   "outputs": [],
   "source": [
    "def recentRunToStr(runs):\n",
    "    l = len(runs)\n",
    "    recent_str = ''\n",
    "    if l == 0:\n",
    "        return recent_str\n",
    "    else:\n",
    "        for i in range(min(6,l)):\n",
    "            if i > 0:\n",
    "                recent_str += '/'\n",
    "            recent_str += str(runs[i])\n",
    "        return recent_str   \n",
    "    \n",
    "def recentRunToAve(runs):\n",
    "    l = len(runs)\n",
    "    if l == 0:\n",
    "        return 7\n",
    "    else:\n",
    "        return sum(runs[0:min(6,l)])/min(6,l)"
   ]
  },
  {
   "cell_type": "code",
   "execution_count": 5,
   "metadata": {
    "scrolled": true
   },
   "outputs": [],
   "source": [
    "recent_str_list = [None] * m\n",
    "recent_ave_list = [None] * m\n",
    "\n",
    "for name, data in horse_dict.items():\n",
    "    recent_runs = []\n",
    "    recent_str = ''\n",
    "\n",
    "    for row in horse_dict[name].itertuples():       \n",
    "        recent_str = recentRunToStr(recent_runs)\n",
    "        recent_ave = round(recentRunToAve(recent_runs), 2)\n",
    "        recent_runs.insert(0, int(row.finishing_position))\n",
    "        # print(row.Index, recent_str, recent_ave)\n",
    "        recent_str_list[row.Index]=recent_str\n",
    "        recent_ave_list[row.Index]=recent_ave\n",
    "\n",
    "df['recent_6_runs'] = recent_str_list\n",
    "df['recent_ave_rank'] = recent_ave_list"
   ]
  },
  {
   "cell_type": "code",
   "execution_count": 6,
   "metadata": {},
   "outputs": [
    {
     "name": "stdout",
     "output_type": "stream",
     "text": [
      "Numer of horses:  2155\n",
      "Numer of jockeys:  105\n",
      "Numer of trainers:  93\n"
     ]
    }
   ],
   "source": [
    "# 2.2.3\n",
    "jockey_list = list(set(df['jockey']))\n",
    "trainer_list = list(set(df['trainer']))\n",
    "horse = dict((name, i) for i, name in enumerate(horse_list))\n",
    "jockey = dict((name, i) for i, name in enumerate(jockey_list))\n",
    "trainer = dict((name, i) for i, name in enumerate(trainer_list))\n",
    "print(\"Numer of horses: \", len(horse_list))\n",
    "print(\"Numer of jockeys: \", len(jockey_list))\n",
    "print(\"Numer of trainers: \", len(trainer_list))"
   ]
  },
  {
   "cell_type": "code",
   "execution_count": 7,
   "metadata": {},
   "outputs": [],
   "source": [
    "# compute jockey_ave_rank\n",
    "jockey_dict = {}\n",
    "for name in jockey_list:\n",
    "    name_index = []\n",
    "    for i, k in enumerate(df['jockey']):\n",
    "        if k == name:\n",
    "            name_index.append(i)\n",
    "    jockey_dict[name] = df.iloc[name_index][['finishing_position']]\n",
    "    \n",
    "recent_jockey_ave_list = [None] * m\n",
    "\n",
    "for name, data in jockey_dict.items():\n",
    "    recent_runs = []\n",
    "    for row in jockey_dict[name].itertuples():       \n",
    "        recent_ave = round(7 if len(recent_runs) == 0 else sum(recent_runs)/len(recent_runs))\n",
    "        recent_runs.insert(0, int(row.finishing_position))\n",
    "        recent_jockey_ave_list[row.Index]=recent_ave\n",
    "\n",
    "df['jockey_ave_rank'] = recent_jockey_ave_list \n",
    "\n",
    "# compute trainer_ave_rank\n",
    "trainer_dict = {}\n",
    "for name in trainer_list:\n",
    "    name_index = []\n",
    "    for i, k in enumerate(df['trainer']):\n",
    "        if k == name:\n",
    "            name_index.append(i)\n",
    "    trainer_dict[name] = df.iloc[name_index][['finishing_position']]\n",
    "    \n",
    "recent_trainer_ave_list = [None] * m\n",
    "\n",
    "for name, data in trainer_dict.items():\n",
    "    recent_runs = []\n",
    "    for row in trainer_dict[name].itertuples():       \n",
    "        recent_ave = round(7 if len(recent_runs) == 0 else sum(recent_runs)/len(recent_runs))\n",
    "        recent_runs.insert(0, int(row.finishing_position))\n",
    "        recent_trainer_ave_list[row.Index]=recent_ave\n",
    "\n",
    "df['trainer_ave_rank'] = recent_trainer_ave_list "
   ]
  },
  {
   "cell_type": "code",
   "execution_count": 8,
   "metadata": {
    "scrolled": true
   },
   "outputs": [],
   "source": [
    "# 2.2.4\n",
    "dff = pd.read_csv('data/race-result-race.csv')\n",
    "race_id_dist = dff[['race_id', 'race_distance']]\n",
    "df = df.join(race_id_dist.set_index('race_id'), on='race_id')"
   ]
  },
  {
   "cell_type": "code",
   "execution_count": 33,
   "metadata": {},
   "outputs": [],
   "source": [
    "#2.2.5 (split)\n",
    "trainsize=int(np.floor(0.8*m))\n",
    "df_train=df.head(trainsize)\n",
    "df_test=df.tail(len(df)-trainsize)\n",
    "df_train.to_csv('data/training.csv', index=False)\n",
    "df_test.to_csv('data/testing.csv', index=False)"
   ]
  }
 ],
 "metadata": {
  "kernelspec": {
   "display_name": "Python 3",
   "language": "python",
   "name": "python3"
  },
  "language_info": {
   "codemirror_mode": {
    "name": "ipython",
    "version": 3
   },
   "file_extension": ".py",
   "mimetype": "text/x-python",
   "name": "python",
   "nbconvert_exporter": "python",
   "pygments_lexer": "ipython3",
   "version": "3.6.4"
  }
 },
 "nbformat": 4,
 "nbformat_minor": 2
}
